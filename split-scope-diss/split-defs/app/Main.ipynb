{
 "cells": [
  {
   "cell_type": "code",
   "execution_count": 1,
   "metadata": {},
   "outputs": [],
   "source": [
    "{-# LANGUAGE FlexibleContexts #-}"
   ]
  },
  {
   "cell_type": "code",
   "execution_count": 2,
   "metadata": {},
   "outputs": [],
   "source": [
    "import Grammar\n",
    "import SplitDefs\n",
    "import Control.Monad.State\n",
    "import Control.Exception (ErrorCall(..), handle)"
   ]
  },
  {
   "cell_type": "markdown",
   "metadata": {},
   "source": [
    "Some basic functions to show results of evaluating expressions"
   ]
  },
  {
   "cell_type": "code",
   "execution_count": 3,
   "metadata": {},
   "outputs": [],
   "source": [
    "-- Run an update in a default (empty context) -----\n",
    "run :: D b -> [(b, Stack)]\n",
    "run m = runStateT m []\n",
    "\n",
    "-- Pass in final continuation and run -------------\n",
    "evl :: (Low (D b) o a) => K (D b) o a -> [(b, Stack)]\n",
    "evl = run . lowr\n",
    "\n",
    "-- Display the result of evaluation ---------------\n",
    "tryShow :: Show a => a -> IO ()\n",
    "tryShow = handle (\\(ErrorCall e) -> putStrLn e) . print"
   ]
  },
  {
   "cell_type": "markdown",
   "metadata": {},
   "source": [
    "---\n",
    "\n",
    "$[\\![\\text{some hat}]\\!]$"
   ]
  },
  {
   "cell_type": "code",
   "execution_count": 4,
   "metadata": {},
   "outputs": [
    {
     "data": {
      "text/plain": [
       "[(\"H1\",[\"H1\"]),(\"H2\",[\"H2\"])]"
      ]
     },
     "metadata": {},
     "output_type": "display_data"
    }
   ],
   "source": [
    "let somehat :: [(E, Stack)]\n",
    "    somehat = evl $ lowr $ some ~\\~ u hat\n",
    "    \n",
    "tryShow somehat"
   ]
  },
  {
   "cell_type": "markdown",
   "metadata": {},
   "source": [
    "---\n",
    "\n",
    "$[\\![\\text{some girl}]\\!]$"
   ]
  },
  {
   "cell_type": "code",
   "execution_count": 5,
   "metadata": {},
   "outputs": [
    {
     "data": {
      "text/plain": [
       "[(\"Mary\",[\"Mary\"])]"
      ]
     },
     "metadata": {},
     "output_type": "display_data"
    }
   ],
   "source": [
    "let somegirl :: [(E, Stack)]\n",
    "    somegirl = evl $ lowr $ some ~\\~ u girl\n",
    "    \n",
    "tryShow somegirl"
   ]
  },
  {
   "cell_type": "markdown",
   "metadata": {},
   "source": [
    "---\n",
    "\n",
    "$[\\![\\text{the hat}]\\!]$\n",
    "\n",
    "<img src=\"images/def.png\" alt=\"definite description\" style=\"width: 20%; margin-left: 0px;\"/>"
   ]
  },
  {
   "cell_type": "code",
   "execution_count": 6,
   "metadata": {},
   "outputs": [
    {
     "data": {
      "text/plain": [
       "uniqueness failure"
      ]
     },
     "metadata": {},
     "output_type": "display_data"
    }
   ],
   "source": [
    "let thehat :: [(E, Stack)]\n",
    "    thehat = evl $ ilowr (the' 0 ~\\~ uu hat)\n",
    "    \n",
    "tryShow thehat"
   ]
  },
  {
   "cell_type": "markdown",
   "metadata": {},
   "source": [
    "---\n",
    "\n",
    "$[\\![\\text{the girl}]\\!]$"
   ]
  },
  {
   "cell_type": "code",
   "execution_count": 7,
   "metadata": {},
   "outputs": [
    {
     "data": {
      "text/plain": [
       "[(\"Mary\",[\"Mary\"])]"
      ]
     },
     "metadata": {},
     "output_type": "display_data"
    }
   ],
   "source": [
    "let thegirl :: [(E, Stack)]\n",
    "    thegirl = evl $ ilowr (the' 0 ~\\~ uu girl)\n",
    "    \n",
    "tryShow thegirl"
   ]
  },
  {
   "cell_type": "markdown",
   "metadata": {},
   "source": [
    "---\n",
    "\n",
    "$[\\![\\text{some hat is a hat}]\\!]$"
   ]
  },
  {
   "cell_type": "code",
   "execution_count": 8,
   "metadata": {},
   "outputs": [
    {
     "data": {
      "text/plain": [
       "[(True,[\"H1\"]),(True,[\"H2\"])]"
      ]
     },
     "metadata": {},
     "output_type": "display_data"
    }
   ],
   "source": [
    "let sen :: [(T, Stack)]\n",
    "    sen = evl $ lowr (some ~\\~ u hat) ~\\~ u hat\n",
    "    \n",
    "tryShow sen"
   ]
  },
  {
   "cell_type": "markdown",
   "metadata": {},
   "source": [
    "---\n",
    "\n",
    "$[\\![\\text{the hat is a hat}]\\!]$"
   ]
  },
  {
   "cell_type": "code",
   "execution_count": 9,
   "metadata": {},
   "outputs": [
    {
     "data": {
      "text/plain": [
       "uniqueness failure"
      ]
     },
     "metadata": {},
     "output_type": "display_data"
    }
   ],
   "source": [
    "let thehat :: K (D r) (D r) E\n",
    "    thehat = reset $ ilowr (the' 0 ~\\~ uu hat)\n",
    "    sen :: [(T, Stack)]\n",
    "    sen = evl $ thehat ~\\~ u hat\n",
    "    \n",
    "tryShow sen"
   ]
  },
  {
   "cell_type": "markdown",
   "metadata": {},
   "source": [
    "---\n",
    "\n",
    "$[\\![\\text{the girl is a girl}]\\!]$"
   ]
  },
  {
   "cell_type": "code",
   "execution_count": 10,
   "metadata": {},
   "outputs": [
    {
     "data": {
      "text/plain": [
       "[(True,[\"Mary\"])]"
      ]
     },
     "metadata": {},
     "output_type": "display_data"
    }
   ],
   "source": [
    "let thegirl :: K (D r) (D r) E\n",
    "    thegirl = reset $ ilowr (the' 0 ~\\~ uu girl)\n",
    "    sen :: [(T, Stack)]\n",
    "    sen = evl $ thegirl ~\\~ u girl\n",
    "    \n",
    "tryShow sen"
   ]
  },
  {
   "cell_type": "markdown",
   "metadata": {},
   "source": [
    "---\n",
    "\n",
    "$[\\![\\text{John likes the girl}]\\!]$"
   ]
  },
  {
   "cell_type": "code",
   "execution_count": 11,
   "metadata": {},
   "outputs": [
    {
     "data": {
      "text/plain": [
       "[(True,[\"Mary\"])]"
      ]
     },
     "metadata": {},
     "output_type": "display_data"
    }
   ],
   "source": [
    "let thegirl :: K (D r) (D r) E\n",
    "    thegirl = reset $ ilowr (the' 0 ~\\~ uu girl)\n",
    "    sen :: [(T, Stack)]\n",
    "    sen = evl $ u john ~\\~ (u likes ~/~ thegirl)\n",
    "    \n",
    "tryShow sen"
   ]
  },
  {
   "cell_type": "markdown",
   "metadata": {},
   "source": [
    "---\n",
    "\n",
    "Nested definites: **Absolute reading**\n",
    "\n",
    "$[\\![\\text{the rabbit in the hat}]\\!]$\n",
    "\n",
    "<img src=\"images/abs-def.png\" alt=\"absolute definite\" style=\"width: 50%; margin-left: 0px;\"/>"
   ]
  },
  {
   "cell_type": "code",
   "execution_count": 12,
   "metadata": {},
   "outputs": [
    {
     "data": {
      "text/plain": [
       "uniqueness failure"
      ]
     },
     "metadata": {},
     "output_type": "display_data"
    }
   ],
   "source": [
    "let thehat :: K (D r') (D r') (K (D r) (D r) E)\n",
    "    thehat = u $ reset $ ilowr (the' 0 ~\\~ uu hat)\n",
    "    trith :: [(E, Stack)]\n",
    "    trith = evl $ ilowr (the' 1 ~\\~ (uu rabbit ~|~ (uu inside ~/~ thehat)))\n",
    "    \n",
    "tryShow trith"
   ]
  },
  {
   "cell_type": "markdown",
   "metadata": {},
   "source": [
    "---\n",
    "\n",
    "Nested definites: **Relative reading**\n",
    "\n",
    "$[\\![\\text{the rabbit in the hat}]\\!]$\n",
    "\n",
    "<img src=\"images/rel-def.png\" alt=\"relative definite\" style=\"width: 50%; margin-left: 0px;\"/>"
   ]
  },
  {
   "cell_type": "code",
   "execution_count": 13,
   "metadata": {},
   "outputs": [
    {
     "data": {
      "text/plain": [
       "[(\"Bugs\",[\"H1\",\"Bugs\"])]"
      ]
     },
     "metadata": {},
     "output_type": "display_data"
    }
   ],
   "source": [
    "let thehat :: K (D r') (D r') (K (D r) (D r) E)\n",
    "    thehat = ilowr (the' 0 ~\\~ uu hat)\n",
    "    trith :: [(E, Stack)]\n",
    "    trith = evl $ ilowr (the' 1 ~\\~ (uu rabbit ~|~ (uu inside ~/~ thehat)))\n",
    "    \n",
    "tryShow trith"
   ]
  },
  {
   "cell_type": "markdown",
   "metadata": {},
   "source": [
    "---\n",
    "\n",
    "$[\\![\\text{The rabbit in the hat is brown}]\\!]$"
   ]
  },
  {
   "cell_type": "code",
   "execution_count": 14,
   "metadata": {},
   "outputs": [
    {
     "data": {
      "text/plain": [
       "[(False,[\"H1\",\"Bugs\"])]"
      ]
     },
     "metadata": {},
     "output_type": "display_data"
    }
   ],
   "source": [
    "let thehat :: K (D r') (D r') (K (D r) (D r) E)\n",
    "    thehat = ilowr (the' 0 ~\\~ uu hat)\n",
    "    sen :: [(T, Stack)]\n",
    "    sen = evl $ ilowr (the' 1 ~\\~ (uu rabbit ~|~ (uu inside ~/~ thehat))) ~\\~ uu brown\n",
    "    \n",
    "tryShow sen"
   ]
  },
  {
   "cell_type": "markdown",
   "metadata": {},
   "source": [
    "---\n",
    "\n",
    "$[\\![\\text{the biggest hat}]\\!]$\n",
    "\n",
    "<img src=\"images/sup.png\" alt=\"superlative description\" style=\"width: 20%; margin-left: 0px;\"/>"
   ]
  },
  {
   "cell_type": "code",
   "execution_count": 15,
   "metadata": {},
   "outputs": [
    {
     "data": {
      "text/plain": [
       "[(\"H2\",[\"H2\"])]"
      ]
     },
     "metadata": {},
     "output_type": "display_data"
    }
   ],
   "source": [
    "let tbh :: [(E, Stack)]\n",
    "    tbh = evl $ ilowr (the 0 (biggest 0) ~\\~ uu hat)\n",
    "    \n",
    "tryShow tbh"
   ]
  },
  {
   "cell_type": "markdown",
   "metadata": {},
   "source": [
    "---\n",
    "\n",
    "Nested superlative: **Absolute reading**\n",
    "\n",
    "$[\\![\\text{the rabbit in the biggest hat}]\\!]$\n",
    "\n",
    "<img src=\"images/abs-sup.png\" alt=\"absolute superlative\" style=\"width: 50%; margin-left: 0px;\"/>"
   ]
  },
  {
   "cell_type": "code",
   "execution_count": 16,
   "metadata": {},
   "outputs": [
    {
     "data": {
      "text/plain": [
       "existence failure"
      ]
     },
     "metadata": {},
     "output_type": "display_data"
    }
   ],
   "source": [
    "let tbh :: K (D r') (D r') (K (D r) (D r) E)\n",
    "    tbh = u $ reset $ ilowr (the 0 (biggest 0) ~\\~ uu hat)\n",
    "    tritbh :: [(E, Stack)]\n",
    "    tritbh = evl $ ilowr (the' 1 ~\\~ (uu rabbit ~|~ (uu inside ~/~ tbh)))\n",
    "    \n",
    "tryShow tritbh"
   ]
  },
  {
   "cell_type": "markdown",
   "metadata": {},
   "source": [
    "---\n",
    "\n",
    "Nested superlative: **Relative reading**\n",
    "\n",
    "$[\\![\\text{the rabbit in the biggest hat}]\\!]$\n",
    "\n",
    "<img src=\"images/rel-sup.png\" alt=\"relative superlative\" style=\"width: 50%; margin-left: 0px;\"/>"
   ]
  },
  {
   "cell_type": "code",
   "execution_count": 17,
   "metadata": {},
   "outputs": [
    {
     "data": {
      "text/plain": [
       "[(\"Bugs\",[\"H1\",\"Bugs\"])]"
      ]
     },
     "metadata": {},
     "output_type": "display_data"
    }
   ],
   "source": [
    "let ttr :: K (D r') (D r') (K (D r) (D r) E)\n",
    "    ttr = ilowr (the 0 (biggest 0) ~\\~ uu hat)\n",
    "    tritbh :: [(E, Stack)]\n",
    "    tritbh = evl $ ilowr (the' 1 ~\\~ (uu rabbit ~|~ (uu inside ~/~ ttr)))\n",
    "    \n",
    "tryShow tritbh"
   ]
  },
  {
   "cell_type": "code",
   "execution_count": null,
   "metadata": {},
   "outputs": [],
   "source": []
  }
 ],
 "metadata": {
  "kernelspec": {
   "display_name": "Haskell",
   "language": "haskell",
   "name": "haskell"
  },
  "language_info": {
   "codemirror_mode": "ihaskell",
   "file_extension": ".hs",
   "name": "haskell",
   "version": "8.0.2"
  }
 },
 "nbformat": 4,
 "nbformat_minor": 2
}
