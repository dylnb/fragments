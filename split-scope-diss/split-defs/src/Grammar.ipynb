{
 "cells": [
  {
   "cell_type": "markdown",
   "metadata": {},
   "source": [
    "(latex macros)\n",
    "\n",
    "$$\n",
    "\\renewcommand{\\l}{\\lambda}\n",
    "\\newcommand{\\mtype}[1]{\\mathbb{#1}}\n",
    "\\newcommand{\\bind}{\\star}\n",
    "\\newcommand{\\unit}{\\eta}\n",
    "\\newcommand{\\push}{{\\triangleright}}\n",
    "\\newcommand{\\nil}{\\varepsilon}\n",
    "\\newcommand{\\low}{{\\Downarrow}}\n",
    "\\renewcommand{\\ilow}{\\overset{\\raise{-3pt}{\\pt\\Rule{5pt}{0.5pt}{0pt}}}{\\Downarrow}}\n",
    "\\newcommand{\\lift}{{\\uparrow}}\n",
    "\\newcommand{\\ilift}{\\text{\\rotatebox[origin=c]{90}{${\\Mapsto}$}}}\n",
    "\\newcommand{\\reset}{{\\downharpoonleft}\\!{\\upharpoonright}\\!}\n",
    "\\newcommand{\\pair}[2]{\\tup{#1, #2}}\n",
    "\\newcommand{\\thickpair}[2]{\\TUP*{#1,\\ \\ #2}}\n",
    "\\newcommand{\\typepair}[2]{#1 \\ast #2}\n",
    "\\newcommand{\\set}[1]{\\left\\{#1\\right\\}}\n",
    "\\newcommand{\\p}[1]{\\left(#1\\right)}\n",
    "\\newcommand{\\hole}{[\\,]}\n",
    "\\newcommand{\\fsl}{\\,\\big/\\!\\!\\big/\\,}\n",
    "\\newcommand{\\bsl}{\\,\\big\\backslash\\!\\!\\big\\backslash\\,}\n",
    "\\newcommand{\\msl}{\\,\\,\\big|\\hspace{0.5pt}\\big|\\,\\,}\n",
    "\\newcommand{\\FSL}[1]{\\ \\stretchrel[600]{\\ \\fsl\\ }{#1}}\n",
    "\\newcommand{\\BSL}[1]{\\ \\stretchrel[600]{\\ \\bsl\\ }{#1}}\n",
    "\\newcommand{\\MSL}[1]{\\ \\stretchrel[600]{\\ \\msl\\ }{#1}}\n",
    "\\newcommand{\\coloneq}{:=}\n",
    "\\newcommand{\\dblcolon}{::}\n",
    "\\newcommand{\\pt}{\\hspace{1pt}}\n",
    "\\newcommand{\\npt}{\\hspace{-1pt}}\n",
    "\\newcommand{\\ppt}{\\hspace{2pt}}\n",
    "\\newcommand{\\nppt}{\\hspace{-2pt}}\n",
    "\\newcommand{\\col}{\\pt{:}\\ppt}\n",
    "\\newcommand{\\dt}{\\pt{.}\\ppt}\n",
    "\\newcommand{\\cn}[1]{\\textsf{#1}}\n",
    "\\newcommand{\\cat}{\\hspace{-2pt}\\cdot\\hspace{-2pt}}\n",
    "\\newcommand{\\sto}{\\mathbin{\\rightarrow}}\n",
    "\\newcommand{\\must}{\\mathlarger{\\mathlarger{\\Box}}}\n",
    "\\newcommand{\\rest}[2]{#1 \\col #2}\n",
    "\\newcommand{\\objl}[1]{`#1'}\n",
    "\\newcommand{\\tru}{\\textsf{\\bfseries T}}\n",
    "\\newcommand{\\fals}{\\textsf{\\bfseries F}}\n",
    "\\newcommand{\\ms}[1]{\\mathsmaller{#1}}\n",
    "\\newcommand{\\dom}[1]{\\mathcal{D}_{#1}}\n",
    "\\newcommand{\\defeq}{\\coloneq}\n",
    "\\newcommand{\\one}{\\textbf{1}}\n",
    "\\newcommand{\\M}{\\text{\\sffamily\\bfseries M}}\n",
    "\\newcommand{\\N}[1]{\\textbf{#1}}\n",
    "\\newcommand{\\Only}{\\text{\\sffamily\\bfseries O}}\n",
    "\\renewcommand{\\O}{\\mathbb{O}}\n",
    "\\newcommand{\\Sup}{\\text{\\sffamily\\bfseries S}}\n",
    "\\renewcommand{\\S}{\\mathbb{S}}\n",
    "\\newcommand{\\pl}[1]{\\prescript{*}{}{#1}}\n",
    "\\newcommand{\\prt}{\\sqsubset}\n",
    "\\newcommand{\\prteq}{\\sqsubseteq}\n",
    "\\newcommand{\\nprt}{\\not\\sqsubset}\n",
    "\\newcommand{\\nprteq}{\\not\\sqsubseteq}\n",
    "\\newcommand{\\st}{,\\ }\n",
    "\\renewcommand{\\leadsto}{\\rightsquigarrow}\n",
    "\\newcommand{\\reducesto}{\\ \\rightsquigarrow\\ \\ }\n",
    "\\newcommand{\\supstack}[1]{\\subarray{l}#1\\endsubarray}\n",
    "\\newcommand{\\midstrut}{\\setlength\\bigstrutjot{7pt}\\bigstrut}\n",
    "\\newcommand{\\lilstrut}{\\setlength\\bigstrutjot{2pt}\\bigstrut}\n",
    "\\newcommand{\\biggstrut}{\\setlength\\bigstrutjot{10pt}\\bigstrut}\n",
    "$$"
   ]
  },
  {
   "cell_type": "code",
   "execution_count": 1,
   "metadata": {},
   "outputs": [],
   "source": [
    "{-# LANGUAGE FlexibleInstances #-}\n",
    "{-# LANGUAGE MultiParamTypeClasses #-}\n",
    "{-# LANGUAGE TypeFamilies #-}\n",
    "{-# LANGUAGE TypeOperators #-}"
   ]
  },
  {
   "cell_type": "code",
   "execution_count": 2,
   "metadata": {},
   "outputs": [],
   "source": [
    "module Grammar where"
   ]
  },
  {
   "cell_type": "code",
   "execution_count": 3,
   "metadata": {},
   "outputs": [],
   "source": [
    "import Control.Monad.State"
   ]
  },
  {
   "cell_type": "markdown",
   "metadata": {},
   "source": [
    "## Types\n",
    "\n",
    "### Type Constructors\n",
    "\n",
    "Unary types include entities $e$, truth values $t$, and discourse contexts\n",
    "$\\sigma$ (modeled here as lists).\n",
    "Constructed types take one of the following forms, where $\\alpha$ and\n",
    "$\\beta$ are any two types:\n",
    "\n",
    "* $\\alpha \\sto \\beta$, the type of a function from $\\alpha$ to $\\beta$.\n",
    "* $\\set{\\alpha}$, the type of a set of $\\alpha$ objects.\n",
    "* $\\typepair{\\alpha}{\\beta}$, the type of an $\\alpha$ object paired with\n",
    "  a $\\beta$ object, in that order.\n",
    "\n",
    "### Type Abbreviations\n",
    " \n",
    "To keep type descriptions readable, I use the following type synonyms:\n",
    "\n",
    "* $\\mtype{D}\\,{\\alpha} \\equiv \\sigma\\sto \\set{\\typepair{\\alpha}{\\sigma}}$,\n",
    "  the type of updates corresponding to constituents of type $\\alpha$.\n",
    "* $\\mtype{K}\\,{\\rho}\\,{\\omicron}\\,{\\alpha} \\equiv \\p{\\alpha\\sto \\omicron}\\sto\n",
    "  \\rho$, the type of generalized quantifiers with base type\n",
    "  $\\alpha$.\n",
    "* $\\mtype{F}\\,{\\alpha} \\equiv \\mtype{D}\\,{\\alpha}\\sto \\mtype{D}\\,{\\alpha}$,\n",
    "  the type of filters on updates."
   ]
  },
  {
   "cell_type": "code",
   "execution_count": 4,
   "metadata": {},
   "outputs": [],
   "source": [
    "type E = String\n",
    "type T = Bool\n",
    "\n",
    "type Stack = [E]\n",
    "\n",
    "type D = StateT Stack []\n",
    "type F a = D a -> D a\n",
    "data K r o a = Tower {runTower :: (a -> o) -> r}"
   ]
  },
  {
   "cell_type": "markdown",
   "metadata": {},
   "source": [
    "### Modes of combination\n",
    "\n",
    "#### Recursive forward application\n",
    "\n",
    "$\n",
    "\\begin{aligned}\n",
    "m \\fsl n\n",
    "&\\coloneq\n",
    "\\begin{cases}\n",
    "  m\\,n \\quad \n",
    "  \\textbf{if}\\ m \\dblcolon \\alpha\\sto\\beta\\st n \\dblcolon \\alpha \\\\\n",
    "  \\l k \\dt m\\,\\p{\\l f \\dt n\\,\\p{\\l x \\dt k\\,\\p{f \\fsl x}}} \\quad\n",
    "  \\textbf{otherwise}\n",
    "\\end{cases}\n",
    "\\end{aligned}\n",
    "$"
   ]
  },
  {
   "cell_type": "code",
   "execution_count": 5,
   "metadata": {},
   "outputs": [],
   "source": [
    "type family f :/: g where\n",
    "  (a -> b) :/: a = b\n",
    "  (K c d f) :/: (K d e x) = K c e (f :/: x)\n",
    "\n",
    "infixr 9 ~/~\n",
    "class AppR f g where\n",
    "  (~/~) :: f -> g -> f :/: g\n",
    "instance AppR (a -> b) a where\n",
    "  f ~/~ x = f x\n",
    "instance (d ~ d', AppR in1 in2) => AppR (K c d in1) (K d' e in2) where\n",
    "  mf ~/~ mx = Tower $ \\k -> runTower mf (\\f -> runTower mx (\\x -> k (f ~/~ x)))"
   ]
  },
  {
   "cell_type": "markdown",
   "metadata": {},
   "source": [
    "`:/:` is a type-level function that takes two types, `f` and `g`, and returns\n",
    "the type that would result from combining something of type `f` on the left with something\n",
    "of type `g` on the right\n",
    "\n",
    "And `~/~` is the polymorphic function that \"applies\" a function-y thing on the left\n",
    "to an argument-y thing; it is // above"
   ]
  },
  {
   "cell_type": "markdown",
   "metadata": {},
   "source": [
    "#### Recursive backward application"
   ]
  },
  {
   "cell_type": "markdown",
   "metadata": {},
   "source": [
    "$\n",
    "\\begin{aligned}\n",
    "m \\bsl n\n",
    "&\\coloneq\n",
    "\\begin{cases}\n",
    "  n\\,m \\quad\n",
    "  \\textbf{if}\\ n \\dblcolon \\alpha\\sto\\beta\\st m \\dblcolon \\alpha \\\\\n",
    "  \\l k \\dt m\\,\\p{\\l x \\dt n\\,\\p{\\l f \\dt k\\,\\p{x \\bsl f}}} \\quad \n",
    "  \\textbf{otherwise}\n",
    "\\end{cases}\n",
    "\\end{aligned}\n",
    "$"
   ]
  },
  {
   "cell_type": "code",
   "execution_count": 6,
   "metadata": {},
   "outputs": [],
   "source": [
    "type family f :\\: g where\n",
    "  a :\\: (a -> b) = b\n",
    "  (K c d x) :\\: (K d e f) = K c e (x :\\: f)\n",
    "\n",
    "infixr 9 ~\\~\n",
    "class AppL f g where\n",
    "  (~\\~) :: f -> g -> f :\\: g\n",
    "instance AppL a (a -> b) where\n",
    "  x ~\\~ f = f x\n",
    "instance (d ~ d', AppL in1 in2) => AppL (K c d in1) (K d' e in2) where\n",
    "  mx ~\\~ mf = Tower $ \\k -> runTower mx (\\x -> runTower mf (\\f -> k (x ~\\~ f)))"
   ]
  },
  {
   "cell_type": "markdown",
   "metadata": {},
   "source": [
    "#### Recursive predicate modification"
   ]
  },
  {
   "cell_type": "markdown",
   "metadata": {},
   "source": [
    "$\n",
    "\\begin{aligned}\n",
    "m \\msl n\n",
    "&\\coloneq\n",
    "\\begin{cases}\n",
    "  \\l x \\dt m\\,x \\land n\\,x \\quad\n",
    "  \\textbf{if}\\ m \\dblcolon \\alpha\\sto t\\st n \\dblcolon \\alpha\\sto t \\\\\n",
    "  \\l k \\dt m\\,\\p{\\l p \\dt n\\,\\p{\\l q \\dt k\\,\\p{p \\msl q}}} \\quad \n",
    "  \\textbf{otherwise}\n",
    "\\end{cases}\n",
    "\\end{aligned}\n",
    "$"
   ]
  },
  {
   "cell_type": "code",
   "execution_count": 7,
   "metadata": {},
   "outputs": [],
   "source": [
    "type family f :|: g where\n",
    "  (a -> T) :|: (a -> T) = a -> T\n",
    "  (K c d f) :|: (K d e g) = K c e (f :|: g)\n",
    "\n",
    "infixr 9 ~|~\n",
    "class AppC f g where\n",
    "  (~|~) :: f -> g -> f :|: g\n",
    "instance AppC (a -> T) (a -> T) where\n",
    "  f ~|~ g = \\x -> f x && g x\n",
    "instance (d ~ d', AppC in1 in2) => AppC (K c d in1) (K d' e in2) where\n",
    "  mf ~|~ mg = Tower $ \\k -> runTower mf (\\f -> runTower mg (\\g -> k (f ~|~ g)))"
   ]
  },
  {
   "cell_type": "markdown",
   "metadata": {},
   "source": [
    "To help the type-checker resolve some of the rampant polymorphism, the following\n",
    "(non-recursive) special cases of $\\fsl$ and $\\bsl$ are defined"
   ]
  },
  {
   "cell_type": "code",
   "execution_count": 8,
   "metadata": {
    "scrolled": true
   },
   "outputs": [],
   "source": [
    "mf </> mx = Tower $ \\k -> runTower mf (\\f -> runTower mx (\\x -> k (f x)))\n",
    "mf <//> mx = Tower $ \\k -> runTower mf (\\f -> runTower mx (\\x -> k (f </> x)))\n",
    "mx <\\> mf = Tower $ \\k -> runTower mx (\\x -> runTower mf (\\f -> k (f x)))\n",
    "mx <\\\\> mf = Tower $ \\k -> runTower mx (\\x -> runTower mf (\\f -> k (x <\\> f)))"
   ]
  },
  {
   "cell_type": "markdown",
   "metadata": {},
   "source": [
    "### Evaluation\n",
    "\n",
    "$\n",
    "\\begin{aligned}\n",
    "m^{\\low}\n",
    "&\\coloneq\n",
    "\\begin{cases}\n",
    "  m\\,\\eta \\quad \n",
    "  \\textbf{if}\\ m \\dblcolon \\mtype{K}\\,{\\rho}\\,\\p{\\mtype{D}\\,{\\alpha}}\\,{\\alpha}\\\\\n",
    "  m\\,\\p{\\l n\\dt n^\\low} \\quad\n",
    "  \\textbf{otherwise}\n",
    "\\end{cases}\n",
    "\\end{aligned}\n",
    "$"
   ]
  },
  {
   "cell_type": "code",
   "execution_count": 9,
   "metadata": {},
   "outputs": [],
   "source": [
    "class Low r o a where\n",
    "  lowr :: K r o a -> r\n",
    "instance Low r (D a) a where\n",
    "  lowr t = runTower t return\n",
    "instance (Low r' o' a, o ~ r') => Low r o (K r' o' a) where\n",
    "  lowr t = runTower t lowr"
   ]
  },
  {
   "cell_type": "markdown",
   "metadata": {},
   "source": [
    "Note that any given application of $\\low$ is equivalent to one of\n",
    "\n",
    "$\n",
    "\\begin{gathered}\n",
    "\\p{\\eta\\,\\eta}^{\\bind}\\\\\n",
    "\\p{\\eta\\,\\p{\\eta\\,\\eta}^{\\bind}}^{\\bind}\\\\\n",
    "\\p{\\eta\\,\\p{\\eta\\,\\p{\\eta\\,\\eta}^{\\bind}}^{\\bind}}^{\\bind}\\\\\n",
    "\\dots\n",
    "\\end{gathered}\n",
    "$"
   ]
  },
  {
   "cell_type": "markdown",
   "metadata": {},
   "source": [
    "### Other convenience functions"
   ]
  },
  {
   "cell_type": "markdown",
   "metadata": {},
   "source": [
    "$\n",
    "\\begin{aligned}\n",
    "x^{\\lift}\n",
    "&\\coloneq\n",
    "\\p{\\eta\\,x}^{\\bind}\n",
    "%\n",
    "&\n",
    "%\n",
    "x^{\\lift\\lift}\n",
    "&\\coloneq\n",
    "\\p{\\eta\\,\\p{\\eta\\,x}^{\\bind}}^{\\bind}\n",
    "%\n",
    "\\\\\n",
    "%\n",
    "&\\ppt=\n",
    "\\l k\\dt k\\,x\n",
    "%\n",
    "&\n",
    "%\n",
    "&\\ppt=\n",
    "\\l \\gamma\\dt \\gamma\\,\\p{\\l k\\dt k\\,x}\n",
    "\\end{aligned}\n",
    "$"
   ]
  },
  {
   "cell_type": "code",
   "execution_count": 10,
   "metadata": {},
   "outputs": [],
   "source": [
    "u :: a -> K (D r) (D r) a\n",
    "u x = Tower (return x >>=)\n",
    "\n",
    "uu :: a -> K (D r') (D r') (K (D r) (D r) a)\n",
    "uu = u . u"
   ]
  },
  {
   "cell_type": "markdown",
   "metadata": {},
   "source": [
    "$\n",
    "\\begin{aligned}\n",
    "m^{\\ilow}\n",
    "&\\coloneq\n",
    "\\l k\\dt m\\,\\p{\\l n\\dt k\\,n^{\\low}}\n",
    "\\end{aligned}\n",
    "$"
   ]
  },
  {
   "cell_type": "code",
   "execution_count": 11,
   "metadata": {},
   "outputs": [],
   "source": [
    "ilowr :: Low r o a => K (D r') o' (K r o a) -> K (D r') o' r\n",
    "ilowr = (u lowr </>)"
   ]
  },
  {
   "cell_type": "markdown",
   "metadata": {},
   "source": [
    "$\n",
    "\\begin{aligned}\n",
    "m^{\\reset}\n",
    "&\\coloneq\n",
    "\\p{m^{\\low}}^{\\bind}\n",
    "\\end{aligned}\n",
    "$"
   ]
  },
  {
   "cell_type": "code",
   "execution_count": 12,
   "metadata": {},
   "outputs": [],
   "source": [
    "reset :: (r ~ D b, Low r o a) => K r o a -> K (D r') (D r') b\n",
    "reset t = Tower (lowr t >>=)"
   ]
  }
 ],
 "metadata": {
  "kernelspec": {
   "display_name": "Haskell",
   "language": "haskell",
   "name": "haskell"
  },
  "language_info": {
   "codemirror_mode": "ihaskell",
   "file_extension": ".hs",
   "name": "haskell",
   "version": "8.0.2"
  }
 },
 "nbformat": 4,
 "nbformat_minor": 2
}
