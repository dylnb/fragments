{
 "cells": [
  {
   "cell_type": "code",
   "execution_count": 1,
   "metadata": {},
   "outputs": [],
   "source": [
    "{-# LANGUAGE FlexibleInstances #-}\n",
    "{-# LANGUAGE MultiParamTypeClasses #-}\n",
    "{-# LANGUAGE TypeFamilies #-}\n",
    "{-# LANGUAGE TypeOperators #-}"
   ]
  },
  {
   "cell_type": "code",
   "execution_count": 2,
   "metadata": {},
   "outputs": [],
   "source": [
    "import Control.Monad.State"
   ]
  },
  {
   "cell_type": "markdown",
   "metadata": {},
   "source": [
    "## Types\n",
    "\n",
    "### Type Constructors\n",
    "\n",
    "Unary types include entities $e$, truth values $t$, and discourse contexts\n",
    "$\\sigma$ (modeled here as lists).\n",
    "Constructed types take one of the following forms, where $\\alpha$ and\n",
    "$\\beta$ are any two types:\n",
    "\n",
    "* $\\alpha \\to \\beta$, the type of a function from $\\alpha$ to $\\beta$.\n",
    "* $\\left\\{\\alpha\\right\\}$, the type of a set of $\\alpha$ objects.\n",
    "* $\\alpha \\ast \\beta$, the type of an $\\alpha$ object paired with\n",
    "  a $\\beta$ object, in that order.\n",
    "\n",
    "### Type Abbreviations\n",
    " \n",
    "To keep type descriptions readable, I use the following type synonyms: $\\alpha$\n",
    "\n",
    "\n",
    "* $\\mathbb{D}\\,{\\alpha} \\equiv \\sigma\\to \\left\\{\\alpha \\ast \\sigma\\right\\}$,\n",
    "  the type of updates corresponding to constituents of type $\\alpha$.\n",
    "\n",
    "* $\\mathbb{K}\\,{\\rho}\\,{\\omicron}\\,{\\alpha} \\equiv \\left(\\alpha\\to \\omicron\\right)\\to\n",
    "  \\rho$, the type of generalized quantifiers with base type\n",
    "  $\\alpha$.\n",
    "* $\\mathbb{F}\\,{\\alpha} \\equiv \\mathbb{D}\\,{\\alpha}\\to \\mathbb{D}\\,{\\alpha}$,\n",
    "  the type of filters on updates."
   ]
  },
  {
   "cell_type": "code",
   "execution_count": 3,
   "metadata": {},
   "outputs": [],
   "source": [
    "type E = String\n",
    "type T = Bool\n",
    "\n",
    "type Stack = [E]\n",
    "\n",
    "type D = StateT Stack []\n",
    "type F a = D a -> D a\n",
    "data K r o a = Tower {runTower :: (a -> o) -> r}"
   ]
  },
  {
   "cell_type": "markdown",
   "metadata": {},
   "source": [
    "### Modes of combination\n",
    "\n",
    "#### Recursive forward application\n",
    "\n",
    "$\n",
    "\\begin{aligned}\n",
    "m \\,\\big/\\!\\!\\big/\\, n\n",
    "&=\n",
    "\\begin{cases}\n",
    "  m\\,n \\quad \n",
    "  \\textbf{if}\\ m\\, {\\colon\\!\\colon}\\, \\alpha\\to\\beta,\\ n\\, {\\colon\\!\\colon}\\, \\alpha \\\\\n",
    "  \\lambda k .\\, m\\,{\\left(\\lambda f .\\, n\\,{\\left(\\lambda x .\\, k\\,{\\left(f \\,\\big/\\!\\!\\big/\\, x\\right)}\\right)}\\right)} \\quad\n",
    "  \\textbf{otherwise}\n",
    "\\end{cases}\n",
    "\\end{aligned}\n",
    "$"
   ]
  },
  {
   "cell_type": "code",
   "execution_count": 4,
   "metadata": {},
   "outputs": [],
   "source": [
    "type family f :/: g where\n",
    "  (a -> b) :/: a = b\n",
    "  (K c d f) :/: (K d e x) = K c e (f :/: x)\n",
    "\n",
    "infixr 9 ~/~\n",
    "class AppR f g where\n",
    "  (~/~) :: f -> g -> f :/: g\n",
    "instance AppR (a -> b) a where\n",
    "  f ~/~ x = f x\n",
    "instance (d ~ d', AppR in1 in2) => AppR (K c d in1) (K d' e in2) where\n",
    "  mf ~/~ mx = Tower $ \\k -> runTower mf (\\f -> runTower mx (\\x -> k (f ~/~ x)))"
   ]
  },
  {
   "cell_type": "markdown",
   "metadata": {},
   "source": [
    "`:/:` is a type-level function that takes two types, `f` and `g`, and returns\n",
    "the type that would result from combining something of type `f` on the left with something\n",
    "of type `g` on the right\n",
    "\n",
    "And `~/~` is the polymorphic function that \"applies\" a function-y thing on the left\n",
    "to an argument-y thing; it is // above"
   ]
  },
  {
   "cell_type": "markdown",
   "metadata": {},
   "source": [
    "#### Recursive backward application"
   ]
  },
  {
   "cell_type": "markdown",
   "metadata": {},
   "source": [
    "$\n",
    "\\begin{aligned}\n",
    "m \\,\\backslash\\!\\!\\backslash\\, n\n",
    "&=\n",
    "\\begin{cases}\n",
    "  n\\,m \\quad\n",
    "  \\textbf{if}\\ n\\, {\\colon\\!\\colon}\\, \\alpha\\to\\beta,\\ m\\, {\\colon\\!\\colon}\\, \\alpha \\\\\n",
    "  \\lambda k .\\, m\\,{\\left(\\lambda x .\\, n\\,{\\left(\\lambda f .\\, k\\,{\\left(x \\,\\backslash\\!\\!\\backslash\\, f\\right)}\\right)}\\right)} \\quad \n",
    "  \\textbf{otherwise}\n",
    "\\end{cases}\n",
    "\\end{aligned}\n",
    "$"
   ]
  },
  {
   "cell_type": "code",
   "execution_count": 5,
   "metadata": {},
   "outputs": [],
   "source": [
    "type family f :\\: g where\n",
    "  a :\\: (a -> b) = b\n",
    "  (K c d x) :\\: (K d e f) = K c e (x :\\: f)\n",
    "\n",
    "infixr 9 ~\\~\n",
    "class AppL f g where\n",
    "  (~\\~) :: f -> g -> f :\\: g\n",
    "instance AppL a (a -> b) where\n",
    "  x ~\\~ f = f x\n",
    "instance (d ~ d', AppL in1 in2) => AppL (K c d in1) (K d' e in2) where\n",
    "  mx ~\\~ mf = Tower $ \\k -> runTower mx (\\x -> runTower mf (\\f -> k (x ~\\~ f)))"
   ]
  },
  {
   "cell_type": "markdown",
   "metadata": {},
   "source": [
    "#### Recursive predicate modification"
   ]
  },
  {
   "cell_type": "markdown",
   "metadata": {},
   "source": [
    "$\n",
    "\\begin{aligned}\n",
    "m \\,\\,\\big|\\hspace{0.5pt}\\big|\\,\\, n\n",
    "&=\n",
    "\\begin{cases}\n",
    "  \\lambda x .\\, m\\,x \\land n\\,x \\quad\n",
    "  \\textbf{if}\\ m\\, {\\colon\\!\\colon}\\, \\alpha\\to t,\\ n\\, {\\colon\\!\\colon}\\, \\alpha\\to t \\\\\n",
    "  \\lambda k .\\, m\\,{\\left(\\lambda p .\\, n\\,{\\left(\\lambda q .\\, k\\,{\\left(p \\,\\,\\big|\\hspace{0.5pt}\\big|\\,\\, q\\right)}\\right)}\\right)} \\quad \n",
    "  \\textbf{otherwise}\n",
    "\\end{cases}\n",
    "\\end{aligned}\n",
    "$"
   ]
  },
  {
   "cell_type": "code",
   "execution_count": 6,
   "metadata": {},
   "outputs": [],
   "source": [
    "type family f :|: g where\n",
    "  (a -> T) :|: (a -> T) = a -> T\n",
    "  (K c d f) :|: (K d e g) = K c e (f :|: g)\n",
    "\n",
    "infixr 9 ~|~\n",
    "class AppC f g where\n",
    "  (~|~) :: f -> g -> f :|: g\n",
    "instance AppC (a -> T) (a -> T) where\n",
    "  f ~|~ g = \\x -> f x && g x\n",
    "instance (d ~ d', AppC in1 in2) => AppC (K c d in1) (K d' e in2) where\n",
    "  mf ~|~ mg = Tower $ \\k -> runTower mf (\\f -> runTower mg (\\g -> k (f ~|~ g)))"
   ]
  },
  {
   "cell_type": "markdown",
   "metadata": {},
   "source": [
    "To help the type-checker resolve some of the rampant polymorphism, the following\n",
    "(non-recursive) special cases of $\\,\\big/\\!\\!\\big/\\,$ and $\\,\\backslash\\!\\!\\backslash\\,$ are defined"
   ]
  },
  {
   "cell_type": "code",
   "execution_count": 7,
   "metadata": {
    "scrolled": true
   },
   "outputs": [],
   "source": [
    "mf </> mx = Tower $ \\k -> runTower mf (\\f -> runTower mx (\\x -> k (f x)))\n",
    "mf <//> mx = Tower $ \\k -> runTower mf (\\f -> runTower mx (\\x -> k (f </> x)))\n",
    "mx <\\> mf = Tower $ \\k -> runTower mx (\\x -> runTower mf (\\f -> k (f x)))\n",
    "mx <\\\\> mf = Tower $ \\k -> runTower mx (\\x -> runTower mf (\\f -> k (x <\\> f)))"
   ]
  },
  {
   "cell_type": "markdown",
   "metadata": {},
   "source": [
    "### Evaluation\n",
    "\n",
    "$\n",
    "\\begin{aligned}\n",
    "m^{\\Downarrow}\n",
    "&=\n",
    "\\begin{cases}\n",
    "  m\\,\\eta \\quad \n",
    "  \\textbf{if}\\ m\\, {\\colon\\!\\colon}\\, \\mathbb{K}\\,{\\rho}\\,{\\left(\\mathbb{D}\\,{\\alpha}\\right)}\\,{\\alpha}\\\\\n",
    "  m\\,{\\left(\\lambda n.\\, n^\\Downarrow\\right)} \\quad\n",
    "  \\textbf{otherwise}\n",
    "\\end{cases}\n",
    "\\end{aligned}\n",
    "$"
   ]
  },
  {
   "cell_type": "code",
   "execution_count": 8,
   "metadata": {},
   "outputs": [],
   "source": [
    "class Low r o a where\n",
    "  lowr :: K r o a -> r\n",
    "instance Low r (D a) a where\n",
    "  lowr t = runTower t return\n",
    "instance (Low r' o' a, o ~ r') => Low r o (K r' o' a) where\n",
    "  lowr t = runTower t lowr"
   ]
  },
  {
   "cell_type": "markdown",
   "metadata": {},
   "source": [
    "Note that any given application of $\\Downarrow$ is equivalent to one of\n",
    "\n",
    "$\n",
    "\\begin{gathered}\n",
    "{\\left(\\eta\\,\\eta\\right)}^{\\star}\\\\\n",
    "{\\left(\\eta\\,{\\left(\\eta\\,\\eta\\right)}^{\\star}\\right)}^{\\star}\\\\\n",
    "{\\left(\\eta\\,{\\left(\\eta\\,{\\left(\\eta\\,\\eta\\right)}^{\\star}\\right)}^{\\star}\\right)}^{\\star}\\\\\n",
    "\\dots\n",
    "\\end{gathered}\n",
    "$"
   ]
  },
  {
   "cell_type": "markdown",
   "metadata": {},
   "source": [
    "### Other convenience functions"
   ]
  },
  {
   "cell_type": "markdown",
   "metadata": {},
   "source": [
    "$\n",
    "\\begin{aligned}\n",
    "x^{\\uparrow}\n",
    "&=\n",
    "{\\left(\\eta\\,x\\right)}^{\\star}\n",
    "&\n",
    "x^{\\uparrow\\!\\uparrow}\n",
    "&=\n",
    "{\\left(\\eta\\,{\\left(\\eta\\,x\\right)}^{\\star}\\right)}^{\\star}\n",
    "\\\\\n",
    "&=\n",
    "\\lambda k.\\, k\\,x\n",
    "&\n",
    "&=\n",
    "\\lambda \\gamma.\\, \\gamma\\,{\\left(\\lambda k.\\, k\\,x\\right)}\n",
    "\\end{aligned}\n",
    "$"
   ]
  },
  {
   "cell_type": "code",
   "execution_count": 9,
   "metadata": {},
   "outputs": [],
   "source": [
    "u :: a -> K (D r) (D r) a\n",
    "u x = Tower (return x >>=)\n",
    "\n",
    "uu :: a -> K (D r') (D r') (K (D r) (D r) a)\n",
    "uu = u . u"
   ]
  },
  {
   "cell_type": "markdown",
   "metadata": {},
   "source": [
    "$\n",
    "\\begin{aligned}\n",
    "m^{\\overline{\\Downarrow}}\n",
    "&=\n",
    "\\lambda k.\\, m\\,{\\left(\\lambda n.\\, k\\,n^{\\Downarrow}\\right)}\n",
    "\\end{aligned}\n",
    "$"
   ]
  },
  {
   "cell_type": "code",
   "execution_count": 10,
   "metadata": {},
   "outputs": [],
   "source": [
    "ilowr :: Low r o a => K (D r') o' (K r o a) -> K (D r') o' r\n",
    "ilowr = (u lowr </>)"
   ]
  },
  {
   "cell_type": "markdown",
   "metadata": {},
   "source": [
    "$\n",
    "\\begin{aligned}\n",
    "m^{\\downharpoonleft\\!\\upharpoonright}\n",
    "&=\n",
    "{\\left(m^{\\Downarrow}\\right)}^{\\star}\n",
    "\\end{aligned}\n",
    "$"
   ]
  },
  {
   "cell_type": "code",
   "execution_count": 11,
   "metadata": {},
   "outputs": [],
   "source": [
    "reset :: (r ~ D b, Low r o a) => K r o a -> K (D r') (D r') b\n",
    "reset t = Tower (lowr t >>=)"
   ]
  }
 ],
 "metadata": {
  "kernelspec": {
   "display_name": "Haskell",
   "language": "haskell",
   "name": "haskell"
  },
  "language_info": {
   "codemirror_mode": "ihaskell",
   "file_extension": ".hs",
   "name": "haskell",
   "version": "8.0.2"
  }
 },
 "nbformat": 4,
 "nbformat_minor": 2
}
