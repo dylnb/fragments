{
 "cells": [
  {
   "cell_type": "code",
   "execution_count": null,
   "metadata": {},
   "outputs": [],
   "source": [
    "import Grammar\n",
    "import Control.Monad.State\n",
    "import Data.List.Extra (allSame, groupSortOn)"
   ]
  },
  {
   "cell_type": "markdown",
   "metadata": {},
   "source": [
    "## Model\n",
    "\n",
    "### Individuals"
   ]
  },
  {
   "cell_type": "code",
   "execution_count": null,
   "metadata": {},
   "outputs": [],
   "source": [
    "domain :: [E]\n",
    "domain = [john', mary', bill', thumper', bugs', h1', h2']\n",
    "john' = \"John\"\n",
    "mary' = \"Mary\"\n",
    "bill' = \"Bill\"\n",
    "thumper' = \"Thumper\"\n",
    "bugs' = \"Bugs\"\n",
    "h1' = \"H1\"\n",
    "h2' = \"H2\""
   ]
  },
  {
   "cell_type": "markdown",
   "metadata": {},
   "source": [
    "### Properties"
   ]
  },
  {
   "cell_type": "code",
   "execution_count": null,
   "metadata": {},
   "outputs": [],
   "source": [
    "predDomain :: [[E]]\n",
    "predDomain = [boy', girl', rabbit', hat', brown']\n",
    "boy' = [john', bill']\n",
    "girl' = [mary']\n",
    "rabbit' = [thumper', bugs']\n",
    "hat' = [h1', h2']\n",
    "brown' = [thumper']"
   ]
  },
  {
   "cell_type": "markdown",
   "metadata": {},
   "source": [
    "### Relations"
   ]
  },
  {
   "cell_type": "code",
   "execution_count": null,
   "metadata": {},
   "outputs": [],
   "source": [
    "relDomain :: [[(E,E)]]\n",
    "relDomain = [likes', inside']\n",
    "likes' = [(john', bill'), (john', mary'), (bill', mary')]\n",
    "inside' = [(bugs', h1')]"
   ]
  },
  {
   "cell_type": "markdown",
   "metadata": {},
   "source": [
    "## Language\n",
    "\n",
    "### Names"
   ]
  },
  {
   "cell_type": "code",
   "execution_count": null,
   "metadata": {},
   "outputs": [],
   "source": [
    "john, mary, bill, thumper, bugs, h1, h2 :: E\n",
    "[john, mary, bill, thumper, bugs, h1, h2] = domain"
   ]
  },
  {
   "cell_type": "markdown",
   "metadata": {},
   "source": [
    "### One-place predicates"
   ]
  },
  {
   "cell_type": "code",
   "execution_count": null,
   "metadata": {},
   "outputs": [],
   "source": [
    "boy, girl, rabbit, hat, brown :: E -> T\n",
    "[boy, girl, rabbit, hat, brown] = map (\\xs x -> x `elem` xs) predDomain"
   ]
  },
  {
   "cell_type": "markdown",
   "metadata": {},
   "source": [
    "### Two-place predicates"
   ]
  },
  {
   "cell_type": "code",
   "execution_count": null,
   "metadata": {},
   "outputs": [],
   "source": [
    "likes, inside :: E -> E -> T\n",
    "[likes, inside] = map (\\rel x y -> (y,x) `elem` rel) relDomain"
   ]
  },
  {
   "cell_type": "markdown",
   "metadata": {},
   "source": [
    "### Determiners"
   ]
  },
  {
   "cell_type": "markdown",
   "metadata": {},
   "source": [
    " Item | Type | Denotation\n",
    "------|------|-----------\n",
    "$\\textbf{some}^u$ | $\\mathbb{K}\\,{\\left(\\mathbb{K}\\,{\\left(\\mathbb{D}\\,\\rho\\right)}\\,{\\left(\\mathbb{D}\\,\\rho\\right)}\\,e\\right)}\\,{\\left(\\mathbb{D}\\,t\\right)}\\,e$ | $\\lambda cks.\\, \\cup\\left\\{k\\,x\\,s \\mid x\\in D_e,\\ \\langle \\mathbb{T}, s'\\rangle \\in c\\,x\\,\\widehat{sx}\\right\\}$\n",
    "$\\textbf{the}^u$ | $\\mathbb{K}\\,{\\left(\\mathbb{D}\\,\\varphi\\right)}\\,{\\left(\\mathbb{D}\\,\\varphi\\right)}\\,{\\left(\\mathbb{K}\\,{\\left(\\mathbb{K}\\,{\\left(\\mathbb{D}\\,\\rho\\right)}\\,{\\left(\\mathbb{D}\\,\\rho\\right)}\\,e\\right)}\\,{\\left(\\mathbb{D}\\,t\\right)}\\,e\\right)}$ | $\\lambda ks.\\, \\textbf{1}_u\\,{\\left(k\\,\\textbf{some}_u\\right)}\\,s$"
   ]
  },
  {
   "cell_type": "code",
   "execution_count": null,
   "metadata": {},
   "outputs": [],
   "source": [
    "some :: K (K (D r) (D r) E) (D T) E\n",
    "some = Tower $ \\p -> Tower $ \\k -> some' p >>= k\n",
    "  where some' :: (E -> D T) -> D E\n",
    "        some' p = do x <- lift domain\n",
    "                     p x >>= guard\n",
    "                     state $ \\s -> (x, s++[x])\n",
    "\n",
    "the :: Int -> F r' -> K (D r') (D r') (K (K (D r) (D r) E) (D T) E)\n",
    "the n t = Tower $ \\c -> unique n . t $ c some\n",
    "the' n = the n id"
   ]
  },
  {
   "cell_type": "code",
   "execution_count": null,
   "metadata": {},
   "outputs": [],
   "source": [
    "-- Quantificational adjectives --------------------\n",
    "\n",
    "unique :: Int -> F a\n",
    "unique n = mapStateT exactlyOne\n",
    "  where exactlyOne xs\n",
    "          | null xs                      = errorWithoutStackTrace \"existence failure\"\n",
    "          | allSame [s!!n | (_,s) <- xs] = xs\n",
    "          | otherwise                    = errorWithoutStackTrace \"uniqueness failure\"\n",
    "\n",
    "biggest :: Int -> F a\n",
    "biggest n = mapStateT $ last . groupSortOn ((!!n) . snd)"
   ]
  }
 ],
 "metadata": {
  "kernelspec": {
   "display_name": "Haskell",
   "language": "haskell",
   "name": "haskell"
  },
  "language_info": {
   "codemirror_mode": "ihaskell",
   "file_extension": ".hs",
   "name": "haskell",
   "version": "8.0.2"
  }
 },
 "nbformat": 4,
 "nbformat_minor": 2
}
